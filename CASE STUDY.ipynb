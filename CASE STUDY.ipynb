{
 "cells": [
  {
   "cell_type": "markdown",
   "id": "777e2c4d",
   "metadata": {},
   "source": [
    "## 1"
   ]
  },
  {
   "cell_type": "code",
   "execution_count": 19,
   "id": "4fbe1467",
   "metadata": {},
   "outputs": [
    {
     "data": {
      "image/png": "[encoded data removed]",
      "text/plain": [
       "<Figure size 432x288 with 1 Axes>"
      ]
     },
     "metadata": {
      "needs_background": "light"
     },
     "output_type": "display_data"
    },
    {
     "name": "stdout",
     "output_type": "stream",
     "text": [
      "Bangalore 413\n",
      "Mumbai 303\n",
      "NCR 427\n",
      "\n",
      "\n",
      "The location where startups has received funding maximum number of times: NCR\n"
     ]
    }
   ],
   "source": [
    "import pandas as pd\n",
    "import numpy as np\n",
    "import matplotlib.pyplot as plt\n",
    "df = pd.read_csv(\"H:\\Coding ninja\\startup_funding.csv\")\n",
    "\n",
    "df['CityLocation'].dropna(inplace=True)\n",
    "a=df.set_index([\"SNo\",\"Date\",\"StartupName\",\"IndustryVertical\",\"SubVertical\",\"InvestorsName\",\"InvestmentType\",\"AmountInUSD\",\"Remarks\"]).apply(lambda x: x.str.split('/').explode()).reset_index()\n",
    "a['CityLocation'] = a['CityLocation'].apply(lambda x: str(x).strip())\n",
    "\n",
    "a['CityLocation'].replace(\"Delhi\",\"New Delhi\",inplace=True)\n",
    "a['CityLocation'].replace(\"bangalore\",\"Bangalore\",inplace=True)\n",
    "\n",
    "a['AmountInUSD'] = a['AmountInUSD'].apply(lambda x: float(str(x).replace(\",\",\"\")))\n",
    "a['AmountInUSD'] = pd.to_numeric(a['AmountInUSD'])\n",
    "\n",
    "b=a[(a['CityLocation']=='Bangalore') | (a['CityLocation']=='Mumbai') | (a['CityLocation']=='New Delhi') | (a['CityLocation']=='Gurgaon') | (a['CityLocation']=='Noida')]\n",
    "\n",
    "start = b.groupby('CityLocation')['AmountInUSD'].count().sort_values(ascending=False)\n",
    "\n",
    "s = start.index\n",
    "s1 = start.values\n",
    "s3=['Bangalore','Mumbai','NCR']\n",
    "s2=[s1[0],s1[1],(s1[2]+s1[3]+s1[4])]\n",
    "plt.bar(s3,s2)\n",
    "plt.show()\n",
    "for i in range(len(s3)):\n",
    "    print(s3[i],s2[i])\n",
    "print(\"\\n\\nThe location where startups has received funding maximum number of times:\",'NCR')"
   ]
  },
  {
   "cell_type": "markdown",
   "id": "312c083f",
   "metadata": {},
   "source": [
    "## 2"
   ]
  },
  {
   "cell_type": "code",
   "execution_count": 20,
   "id": "307fe3f6",
   "metadata": {},
   "outputs": [
    {
     "name": "stdout",
     "output_type": "stream",
     "text": [
      "The top 5 investors who have invested maximum number of times: \n",
      "Sequoia Capital\n",
      "Accel Partners\n",
      "Kalaari Capital\n",
      "SAIF Partners\n",
      "Blume Ventures\n"
     ]
    }
   ],
   "source": [
    "import pandas as pd\n",
    "import numpy as np\n",
    "import matplotlib.pyplot as plt\n",
    "df = pd.read_csv(\"H:\\Coding ninja\\startup_funding.csv\")\n",
    "\n",
    "df['AmountInUSD'] = df['AmountInUSD'].apply(lambda x: float(str(x).replace(\",\",\"\")))\n",
    "df['AmountInUSD'] = pd.to_numeric(df['AmountInUSD'])\n",
    "a=df.set_index([\"SNo\",\"Date\",\"StartupName\",\"IndustryVertical\",\"SubVertical\",\"CityLocation\",\"InvestmentType\",\"AmountInUSD\",\"Remarks\"]).apply(lambda x: x.str.split(',').explode()).reset_index()\n",
    "a['InvestorsName'] = a['InvestorsName'].apply(lambda x: str(x).strip())\n",
    "\n",
    "\n",
    "start = a.groupby('InvestorsName')['AmountInUSD'].count().sort_values(ascending=False)[:5]\n",
    "print(\"The top 5 investors who have invested maximum number of times: \")\n",
    "s = start.index\n",
    "s1 = start.values\n",
    "for i in range(len(s)):\n",
    "    print(s[i])\n"
   ]
  },
  {
   "cell_type": "markdown",
   "id": "9859431f",
   "metadata": {},
   "source": [
    "## 3"
   ]
  },
  {
   "cell_type": "code",
   "execution_count": 21,
   "id": "a796a493",
   "metadata": {},
   "outputs": [
    {
     "name": "stdout",
     "output_type": "stream",
     "text": [
      "The top 5 investors who have invested maximum number of times in different companies:\n",
      "Sequoia Capital\n",
      "Accel Partners\n",
      "Kalaari Capital\n",
      "SAIF Partners\n",
      "Blume Ventures\n"
     ]
    }
   ],
   "source": [
    "import pandas as pd\n",
    "import numpy as np\n",
    "import matplotlib.pyplot as plt\n",
    "df = pd.read_csv(\"H:\\Coding ninja\\startup_funding.csv\")\n",
    "df['StartupName'].replace(\"Ola Cabs\",\"Ola\",inplace=True)\n",
    "df['StartupName'].replace(\"Olacabs\",\"Ola\",inplace=True)\n",
    "df['StartupName'].replace(\"Flipkart.com\",\"Flipkart\",inplace=True)\n",
    "df['StartupName'].replace(\"OYO Rooms\",\"Oyo\",inplace=True)\n",
    "df['StartupName'].replace(\"Oyorooms\",\"Oyo\",inplace=True)\n",
    "df['StartupName'].replace(\"Oyo Rooms\",\"Oyo\",inplace=True)\n",
    "df['StartupName'].replace(\"OyoRooms\",\"Oyo\",inplace=True)\n",
    "df['StartupName'].replace(\"Paytm Marketplace\",\"Paytm\",inplace=True)\n",
    "\n",
    "df['AmountInUSD'] = df['AmountInUSD'].apply(lambda x: float(str(x).replace(\",\",\"\")))\n",
    "df['AmountInUSD'] = pd.to_numeric(df['AmountInUSD'])\n",
    "a=df.set_index([\"SNo\",\"Date\",\"StartupName\",\"IndustryVertical\",\"SubVertical\",\"CityLocation\",\"InvestmentType\",\"AmountInUSD\",\"Remarks\"]).apply(lambda x: x.str.split(',').explode()).reset_index()\n",
    "\n",
    "a['InvestorsName'] = a['InvestorsName'].apply(lambda x: str(x).strip())\n",
    "a=a[a['InvestorsName']!=\"\"]\n",
    "a.dropna(subset=['AmountInUSD'],inplace=True)\n",
    "\n",
    "start = a.groupby('InvestorsName')['StartupName'].nunique().sort_values(ascending=False)[:5]\n",
    "print(\"The top 5 investors who have invested maximum number of times in different companies:\")\n",
    "s = start.index\n",
    "s1 = start.values\n",
    "for i in range(len(s)):\n",
    "    print(s[i])"
   ]
  },
  {
   "cell_type": "markdown",
   "id": "57034a33",
   "metadata": {},
   "source": [
    "## 4"
   ]
  },
  {
   "cell_type": "code",
   "execution_count": 23,
   "id": "1a74f87d",
   "metadata": {},
   "outputs": [
    {
     "name": "stdout",
     "output_type": "stream",
     "text": [
      "The top 5 investors who have invested in a different number of startups and their investment type is Crowdfunding or Seed Funding:\n",
      "Indian Angel Network\n",
      "Group of Angel Investors\n",
      "LetsVenture\n",
      "Kae Capital\n",
      "Rajan Anandan\n"
     ]
    }
   ],
   "source": [
    "import pandas as pd\n",
    "import numpy as np\n",
    "import matplotlib.pyplot as plt\n",
    "df = pd.read_csv(\"H:\\Coding ninja\\startup_funding.csv\")\n",
    "df['StartupName'].replace(\"Ola Cabs\",\"Ola\",inplace=True)\n",
    "df['StartupName'].replace(\"Olacabs\",\"Ola\",inplace=True)\n",
    "df['StartupName'].replace(\"Flipkart.com\",\"Flipkart\",inplace=True)\n",
    "df['StartupName'].replace(\"OYO Rooms\",\"Oyo\",inplace=True)\n",
    "df['StartupName'].replace(\"Oyorooms\",\"Oyo\",inplace=True)\n",
    "df['StartupName'].replace(\"Oyo Rooms\",\"Oyo\",inplace=True)\n",
    "df['StartupName'].replace(\"OyoRooms\",\"Oyo\",inplace=True)\n",
    "df['StartupName'].replace(\"Paytm Marketplace\",\"Paytm\",inplace=True)\n",
    "df['InvestmentType'].replace(\"SeedFunding\",\"Seed Funding\",inplace=True)\n",
    "df['InvestmentType'].replace(\"PrivateEquity\",\"Private Equity\",inplace=True)\n",
    "df['InvestmentType'].replace(\"Crowd funding\",\"Crowd Funding\",inplace=True)\n",
    "df['InvestorsName'].replace(\"Undisclosed investors\",\"Undisclosed Investors\",inplace=True)\n",
    "df['InvestorsName'].replace(\"undisclosed investors\",\"Undisclosed Investors\",inplace=True)\n",
    "df['InvestorsName'].replace(\"Undisclosed Investor\",\"Undisclosed Investors\",inplace=True)\n",
    "\n",
    "\n",
    "df=df[((df['InvestmentType']==\"Crowd Funding\") | (df['InvestmentType']==\"Seed Funding\"))&(df['InvestorsName']!=\"Undisclosed Investors\")]\n",
    "df['AmountInUSD'] = df['AmountInUSD'].apply(lambda x: float(str(x).replace(\",\",\"\")))\n",
    "df['AmountInUSD'] = pd.to_numeric(df['AmountInUSD'])\n",
    "a=df.set_index([\"SNo\",\"Date\",\"StartupName\",\"IndustryVertical\",\"SubVertical\",\"CityLocation\",\"InvestmentType\",\"AmountInUSD\",\"Remarks\"]).apply(lambda x: x.str.split(',').explode()).reset_index()\n",
    "\n",
    "a['InvestorsName'] = a['InvestorsName'].apply(lambda x: str(x).strip())\n",
    "a=a[a['InvestorsName']!=\"\"]\n",
    "a.dropna(subset=['AmountInUSD'],inplace=True)\n",
    "\n",
    "start = a.groupby('InvestorsName')['StartupName'].nunique().sort_values(ascending=False)[:5]\n",
    "print(\"The top 5 investors who have invested in a different number of startups and their investment type is Crowdfunding or Seed Funding:\")\n",
    "s = start.index\n",
    "s1 = start.values\n",
    "for i in range(len(s)):\n",
    "    print(s[i])"
   ]
  },
  {
   "cell_type": "markdown",
   "id": "3276437c",
   "metadata": {},
   "source": [
    "## 5"
   ]
  },
  {
   "cell_type": "code",
   "execution_count": 24,
   "id": "6b781738",
   "metadata": {},
   "outputs": [
    {
     "name": "stdout",
     "output_type": "stream",
     "text": [
      "The top 5 investors who have invested in a different number of startups and their investment type is Private Equity:\n",
      "Sequoia Capital\n",
      "Accel Partners\n",
      "Kalaari Capital\n",
      "SAIF Partners\n",
      "Tiger Global\n"
     ]
    }
   ],
   "source": [
    "import pandas as pd\n",
    "import numpy as np\n",
    "import matplotlib.pyplot as plt\n",
    "df = pd.read_csv(\"H:\\Coding ninja\\startup_funding.csv\")\n",
    "df['StartupName'].replace(\"Ola Cabs\",\"Ola\",inplace=True)\n",
    "df['StartupName'].replace(\"Olacabs\",\"Ola\",inplace=True)\n",
    "df['StartupName'].replace(\"Flipkart.com\",\"Flipkart\",inplace=True)\n",
    "df['StartupName'].replace(\"OYO Rooms\",\"Oyo\",inplace=True)\n",
    "df['StartupName'].replace(\"Oyorooms\",\"Oyo\",inplace=True)\n",
    "df['StartupName'].replace(\"Oyo Rooms\",\"Oyo\",inplace=True)\n",
    "df['StartupName'].replace(\"OyoRooms\",\"Oyo\",inplace=True)\n",
    "df['StartupName'].replace(\"Paytm Marketplace\",\"Paytm\",inplace=True)\n",
    "df['InvestmentType'].replace(\"SeedFunding\",\"Seed Funding\",inplace=True)\n",
    "df['InvestmentType'].replace(\"PrivateEquity\",\"Private Equity\",inplace=True)\n",
    "df['InvestmentType'].replace(\"Crowd funding\",\"Crowd Funding\",inplace=True)\n",
    "df['InvestorsName'].replace(\"Undisclosed investors\",\"Undisclosed Investors\",inplace=True)\n",
    "df['InvestorsName'].replace(\"undisclosed investors\",\"Undisclosed Investors\",inplace=True)\n",
    "df['InvestorsName'].replace(\"Undisclosed Investor\",\"Undisclosed Investors\",inplace=True)\n",
    "\n",
    "df=df[(df['InvestmentType']==\"Private Equity\") &(df['InvestorsName']!=\"Undisclosed Investors\")]\n",
    "df['AmountInUSD'] = df['AmountInUSD'].apply(lambda x: float(str(x).replace(\",\",\"\")))\n",
    "df['AmountInUSD'] = pd.to_numeric(df['AmountInUSD'])\n",
    "a=df.set_index([\"SNo\",\"Date\",\"StartupName\",\"IndustryVertical\",\"SubVertical\",\"CityLocation\",\"InvestmentType\",\"AmountInUSD\",\"Remarks\"]).apply(lambda x: x.str.split(',').explode()).reset_index()\n",
    "\n",
    "a['InvestorsName'] = a['InvestorsName'].apply(lambda x: str(x).strip())\n",
    "a=a[a['InvestorsName']!=\"\"]\n",
    "a.dropna(subset=['AmountInUSD'],inplace=True)\n",
    "\n",
    "start = a.groupby('InvestorsName')['StartupName'].nunique().sort_values(ascending=False)[:5]\n",
    "print(\"The top 5 investors who have invested in a different number of startups and their investment type is Private Equity:\")\n",
    "s = start.index\n",
    "s1 = start.values\n",
    "for i in range(len(s)):\n",
    "    print(s[i])"
   ]
  },
  {
   "cell_type": "code",
   "execution_count": null,
   "id": "42908c0e",
   "metadata": {},
   "outputs": [],
   "source": []
  }
 ],
 "metadata": {
  "kernelspec": {
   "display_name": "Python 3 (ipykernel)",
   "language": "python",
   "name": "python3"
  },
  "language_info": {
   "codemirror_mode": {
    "name": "ipython",
    "version": 3
   },
   "file_extension": ".py",
   "mimetype": "text/x-python",
   "name": "python",
   "nbconvert_exporter": "python",
   "pygments_lexer": "ipython3",
   "version": "3.9.12"
  }
 },
 "nbformat": 4,
 "nbformat_minor": 5
}
